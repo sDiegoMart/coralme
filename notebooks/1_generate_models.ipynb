{
 "cells": [
  {
   "cell_type": "code",
   "execution_count": 1,
   "id": "32ddd5c0-7727-4e8e-b9cb-697cdf3cd067",
   "metadata": {},
   "outputs": [
    {
     "data": {
      "text/html": [
       "<style>.container { width:95% !important; }</style>"
      ],
      "text/plain": [
       "<IPython.core.display.HTML object>"
      ]
     },
     "metadata": {},
     "output_type": "display_data"
    }
   ],
   "source": [
    "from IPython.display import display, HTML, Math, Markdown\n",
    "display(HTML(\"<style>.container { width:95% !important; }</style>\"))\n",
    "\n",
    "import sys\n",
    "import os\n",
    "coralme_dir = '../'#'/home/chris/zuniga/coralme/'\n",
    "sys.path.insert(0, coralme_dir)\n",
    "# code for enabling this notebook to work within cursor\n",
    "\n",
    "\n",
    "import importlib\n",
    "import coralme\n",
    "import coralme.solver.solver\n",
    "import coralme.builder.main\n",
    "import coralme.core.model\n",
    "import os\n",
    "import pandas as pd\n",
    "import json\n",
    "import cobra\n",
    "\n",
    "from coralme.builder.main import MEBuilder\n",
    "\n",
    "from Bio import Entrez, SeqIO\n",
    "Entrez.email = 'cdalldorf@sdsu.edu'\n",
    "\n",
    "# Function to download GenBank file\n",
    "def download_genbank(ref_id, output_dir, verbose = False):\n",
    "    try:\n",
    "        if verbose: print(f\"Fetching {ref_id}...\")\n",
    "        with Entrez.efetch(db=\"nucleotide\", id=ref_id, rettype=\"gb\", retmode=\"text\") as handle:\n",
    "            gb_record = handle.read()\n",
    "            output_file = os.path.join(output_dir, 'genome.gb')\n",
    "            with open(output_file, \"w\") as f:\n",
    "                f.write(gb_record)\n",
    "        if verbose: print(f\"Saved {ref_id} to {output_file}\")\n",
    "        return(1)\n",
    "    except Exception as e:\n",
    "        if verbose: print(f\"Error fetching {ref_id}: {e}\")\n",
    "        return(0)"
   ]
  },
  {
   "cell_type": "code",
   "execution_count": null,
   "id": "36cf6d99-78f0-40c0-874c-60deab54664c",
   "metadata": {},
   "outputs": [
    {
     "name": "stdout",
     "output_type": "stream",
     "text": [
      "CP065866 skipped, model already exists\n",
      "CP041013 skipped, model already exists\n",
      "CP039749 skipped, model already exists\n",
      "CP065865 skipped, model already exists\n",
      "CP065867 skipped, model already exists\n",
      "LR590473 skipped, model already exists\n",
      "CP008749.1 skipped, model already exists\n",
      "AE004091.2 skipped, model already exists\n",
      "Initiating file processing...\n",
      "~ Processing files for Pseudomonas_aeruginosa_A39-1...\n"
     ]
    },
    {
     "name": "stderr",
     "output_type": "stream",
     "text": [
      "Checking M-model metabolites...                                            : 100\n",
      "Checking M-model genes...                                                  : 100\n",
      "Checking M-model reactions...                                              : 100\n",
      "Syncing optional genes file...                                             : 0.0\n",
      "Looking for duplicates within datasets...                                  : 100\n",
      "Gathering ID occurrences across datasets...                                : 100\n",
      "Solving duplicates across datasets...                                      : 0.0\n",
      "Pruning GenBank...                                                         : 100\n",
      "Updating Genbank file with optional files...                               : 0.0\n",
      "Syncing optional files with genbank contigs...                             : 100\n",
      "Modifying metabolites with manual curation...                              : 0.0\n",
      "Modifying metabolic reactions with manual curation...                      : 0.0\n",
      "Adding manual curation of complexes...                                     : 0.0\n",
      "Getting sigma factors...                                                   : 100\n",
      "Getting generics from Genbank contigs...                                   : 100\n",
      "Getting TU-gene associations from optional TUs file...                     : 0.0\n",
      "Gathering ribosome stoichiometry...                                        : 100\n",
      "Adding protein location...                                                 : 100\n",
      "Purging M-model genes...                                                   : 100\n",
      "Getting enzyme-reaction associations...                                    : 100\n"
     ]
    },
    {
     "name": "stdout",
     "output_type": "stream",
     "text": [
      "Reading Pseudomonas_aeruginosa_A39-1 done.\n"
     ]
    },
    {
     "name": "stderr",
     "output_type": "stream",
     "text": [
      "Gathering M-model compartments...                                          : 100\n",
      "Fixing compartments in M-model metabolites...                              : 100\n",
      "Fixing missing names in M-model reactions...                               : 100\n"
     ]
    },
    {
     "name": "stdout",
     "output_type": "stream",
     "text": [
      "~ Processing files for iJL1678b...\n"
     ]
    },
    {
     "name": "stderr",
     "output_type": "stream",
     "text": [
      "Checking M-model metabolites...                                            : 100\n",
      "Checking M-model genes...                                                  : 100\n",
      "Checking M-model reactions...                                              : 100\n",
      "Looking for duplicates within datasets...                                  : 100\n",
      "Gathering ID occurrences across datasets...                                : 100\n",
      "Solving duplicates across datasets...                                      : 0.0\n",
      "Getting sigma factors...                                                   : 100\n",
      "Getting TU-gene associations from optional TUs file...                     : 100\n",
      "Adding protein location...                                                 : 100\n",
      "Purging M-model genes...                                                   : 100\n"
     ]
    },
    {
     "name": "stdout",
     "output_type": "stream",
     "text": [
      "Reading iJL1678b done.\n",
      "~ Running BLAST with 4 threads...\n"
     ]
    },
    {
     "name": "stderr",
     "output_type": "stream",
     "text": [
      "Converting Genbank contigs to FASTA for BLAST...                           : 100\n",
      "Converting Genbank contigs to FASTA for BLAST...                           : 100\n"
     ]
    },
    {
     "name": "stdout",
     "output_type": "stream",
     "text": [
      "BLAST done.\n"
     ]
    },
    {
     "name": "stderr",
     "output_type": "stream",
     "text": [
      "Updating translocation machinery from homology...                          : 100\n",
      "Updating protein location from homology...                                 : 100\n",
      "Updating translocation multipliers from homology...                        : 100\n",
      "Updating lipoprotein precursors from homology...                           : 100\n",
      "Updating cleaved-methionine proteins from homology...                      : 100\n",
      "Mapping M-metabolites to E-metabolites...                                  : 100\n",
      "Updating generics from homology...                                         : 100\n",
      "Updating folding from homology...                                          : 100\n",
      "Updating ribosome subreaction machinery from homology...                   : 100\n",
      "Updating tRNA synthetases from homology...                                 : 100\n",
      "Updating peptide release factors from homology...                          : 100\n",
      "Updating transcription subreactions machinery from homology...             : 100\n",
      "Updating translation initiation subreactions from homology...              : 100\n",
      "Updating translation elongation subreactions from homology...              : 100\n",
      "Updating translation termination subreactions from homology...             : 100\n",
      "Updating special tRNA subreactions from homology...                        : 100\n",
      "Updating RNA degradosome composition from homology...                      : 100\n",
      "Updating excision machinery from homology...                               : 100\n",
      "Updating tRNA subreactions from homology...                                : 100\n",
      "Updating lipid modification machinery from homology...                     : 100\n",
      "Fixing M-model metabolites with homology...                                : 100\n",
      "Updating enzyme reaction association...                                    : 100\n",
      "Getting tRNA to codon dictionary from CP068238.1                           : 100\n",
      "Checking defined translocation pathways...                                 : 100\n",
      "Getting reaction Keffs...                                                  : 100\n"
     ]
    },
    {
     "name": "stdout",
     "output_type": "stream",
     "text": [
      "File processing done.\n",
      "Initiating ME-model reconstruction...\n"
     ]
    },
    {
     "name": "stderr",
     "output_type": "stream",
     "text": [
      "Adding biomass constraint(s) into the ME-model...                          : 100\n",
      "Adding Metabolites from M-model into the ME-model...                       : 100\n",
      "Adding Reactions from M-model into the ME-model...                         : 100\n",
      "Adding Transcriptional Units into the ME-model...                          : 0.0\n",
      "Adding features from contig CP068238.1 into the ME-model...                : 100\n",
      "Updating all TranslationReaction and TranscriptionReaction...              : 100\n",
      "Removing SubReactions from ComplexData...                                  : 100\n",
      "Adding ComplexFormation into the ME-model...                               : 100\n",
      "Adding Generic(s) into the ME-model...                                     : 100\n",
      "Processing StoichiometricData in ME-model...                               : 100\n"
     ]
    },
    {
     "name": "stdout",
     "output_type": "stream",
     "text": [
      "ME-model was saved in the ../species_files/Pseudomonas_files/individual_species/CP068238/./outputs directory as MEModel-step1-Pseudomonas_aeruginosa_A39-1.pkl\n"
     ]
    },
    {
     "name": "stderr",
     "output_type": "stream",
     "text": [
      "Adding tRNA synthetase(s) information into the ME-model...                 : 100\n",
      "Adding tRNA modification SubReactions...                                   : 0.0\n",
      "Associating tRNA modification enzyme(s) to tRNA(s)...                      : 0.0\n",
      "Adding SubReactions into TranslationReactions...                           : 100\n",
      "Adding RNA Polymerase(s) into the ME-model...                              : 100\n",
      "Associating a RNA Polymerase to each Transcriptional Unit...               : 0.0\n",
      "Processing ComplexData in ME-model...                                      : 100\n",
      "Adding ComplexFormation into the ME-model...                               : 100\n",
      "Adding SubReactions into TranslationReactions...                           : 100\n",
      "Adding Transcription SubReactions...                                       : 100\n",
      "Processing StoichiometricData in SubReactionData...                        : 100\n",
      "Adding reaction subsystems from M-model into the ME-model...               : 100\n",
      "Processing StoichiometricData in ME-model...                               : 100\n",
      "Updating ME-model Reactions...                                             : 100\n",
      "Updating all FormationReactions...                                         : 100\n",
      "Recalculation of the elemental contribution in SubReactions...             : 100\n",
      "Updating all FormationReactions...                                         : 100\n",
      "Updating FormationReactions involving a lipoyl prosthetic group...         : 100\n",
      "Updating FormationReactions involving a glycyl radical...                  : 0.0\n",
      "Estimating effective turnover rates for reactions using the SASA method... : 100\n",
      "Mapping effective turnover rates from user input...                        : 0.0\n",
      "Setting the effective turnover rates using user input...                   : 100\n",
      "Pruning unnecessary ComplexData reactions...                               : 100\n",
      "Pruning unnecessary FoldedProtein reactions...                             : 0.0\n",
      "Pruning unnecessary ProcessedProtein reactions...                          : 100\n",
      "Pruning unnecessary TranslatedGene reactions...                            : 100\n",
      "Pruning unnecessary TranscribedGene reactions...                           : 100\n",
      "Pruning unnecessary Transcriptional Units...                               : 100\n",
      "Pruning unnecessary ComplexData reactions...                               : 100\n",
      "Pruning unnecessary FoldedProtein reactions...                             : 0.0\n",
      "Pruning unnecessary ProcessedProtein reactions...                          : 100\n",
      "Pruning unnecessary TranslatedGene reactions...                            : 100\n",
      "Pruning unnecessary TranscribedGene reactions...                           : 100\n",
      "Pruning unnecessary Transcriptional Units...                               : 100\n",
      "Pruning unnecessary ComplexData reactions...                               : 100\n",
      "Pruning unnecessary FoldedProtein reactions...                             : 0.0\n",
      "Pruning unnecessary ProcessedProtein reactions...                          : 100\n",
      "Pruning unnecessary TranslatedGene reactions...                            : 100\n",
      "Pruning unnecessary TranscribedGene reactions...                           : 100\n",
      "Pruning unnecessary Transcriptional Units...                               : 100\n"
     ]
    },
    {
     "name": "stdout",
     "output_type": "stream",
     "text": [
      "ME-model was saved in the ../species_files/Pseudomonas_files/individual_species/CP068238/./outputs directory as MEModel-step2-Pseudomonas_aeruginosa_A39-1.pkl\n",
      "ME-model reconstruction is done.\n",
      "Number of metabolites in the ME-model is 6604 (+300.73%, from 1648)\n",
      "Number of reactions in the ME-model is 11983 (+500.05%, from 1997)\n",
      "Number of genes in the ME-model is 1627 (+15.23%, from 1412)\n",
      "The MINOS and quad MINOS solvers are a courtesy of Prof Michael A. Saunders. Please cite Ma, D., Yang, L., Fleming, R. et al. Reliable and efficient solution of genome-scale models of Metabolism and macromolecular Expression. Sci Rep 7, 40863 (2017). https://doi.org/10.1038/srep40863\n",
      "\n",
      "~ Troubleshooting started...\n",
      "  Checking if the ME-model can simulate growth without gapfilling reactions...\n"
     ]
    }
   ],
   "source": [
    "# go through each line, convert model, find files necessary, generate input jsons\n",
    "base_dir = os.path.join(coralme_dir, 'species_files', 'Pseudomonas_files')\n",
    "info_df = pd.read_excel(os.path.join(base_dir,'Strain_models_genome-information_predictedM9.xlsx'), index_col = 0)\n",
    "for index, row in info_df.iterrows():\n",
    "    if index == 'Reference': continue\n",
    "\n",
    "    # check if run\n",
    "    out_dir = base_dir+'/individual_species/'+index+'/'\n",
    "    model_name = row['organism'].replace(' ', '_')+'_'+row['strain'].replace(' ','_')\n",
    "    out_model = out_dir+'/outputs/MEModel-step3-'+model_name+'-TS.pkl'\n",
    "    if os.path.exists(out_model):\n",
    "        print(str(index)+' skipped, model already exists')\n",
    "        continue\n",
    "    \n",
    "    # make directory\n",
    "    if not os.path.exists(out_dir):\n",
    "        os.mkdir(out_dir)\n",
    "    if not os.path.exists(out_dir+'/inputs'):\n",
    "        os.mkdir(out_dir+'/inputs')\n",
    "    if not os.path.exists(out_dir+'/outputs'):\n",
    "        os.mkdir(out_dir+'/outputs')\n",
    "    \n",
    "    # pull genome.gb file from NCBI\n",
    "    if not os.path.exists(out_dir+'/inputs/genome.gb'):\n",
    "        download_genbank(index, out_dir+'/inputs')\n",
    "\n",
    "    # TODO - automatic download of Biolog files\n",
    "    # you tried this before without success, perhaps do manually\n",
    "    biolog_exists = False\n",
    "    \n",
    "    # let's create organism.json and input.json files\n",
    "    if biolog_exists:\n",
    "        input_json = {\n",
    "          \"m-model-path\": \"./inputs/model.json\",\n",
    "          \"genbank-path\": \"./inputs/genome.gb\",\n",
    "          \"biocyc.genes\": \"./inputs/genes.txt\",\n",
    "          \"biocyc.prots\": \"./inputs/proteins.txt\",\n",
    "          \"biocyc.TUs\": \"./inputs/TUs.txt\",\n",
    "          \"biocyc.RNAs\": \"./inputs/RNAs.txt\",\n",
    "          \"biocyc.seqs\": \"./inputs/sequences.fasta\",\n",
    "          \"df_gene_cplxs_mods_rxns\": \"./outputs/building_data/automated-org-with-refs.xlsx\",\n",
    "          \"out_directory\": \"./outputs\",\n",
    "          \"log_directory\": \"./outputs\",\n",
    "          \"run_bbh_blast\": True,\n",
    "          \"e_value_cutoff\": 1e-10,\n",
    "          \"dev_reference\": True,\n",
    "          \"include_pseudo_genes\": True,\n",
    "          \"locus_tag\" : \"locus_tag\"\n",
    "        }\n",
    "    else:\n",
    "        input_json = {\n",
    "          \"m-model-path\": \"./inputs/model.json\",\n",
    "          \"genbank-path\": \"./inputs/genome.gb\",\n",
    "          \"df_gene_cplxs_mods_rxns\": \"./outputs/building_data/automated-org-with-refs.xlsx\",\n",
    "          \"out_directory\": \"./outputs\",\n",
    "          \"log_directory\": \"./outputs\",\n",
    "          \"run_bbh_blast\": True,\n",
    "          \"e_value_cutoff\": 1e-10,\n",
    "          \"dev_reference\": True,\n",
    "          \"include_pseudo_genes\": True,\n",
    "          \"locus_tag\" : \"locus_tag\"\n",
    "        }\n",
    "    organism = {\n",
    "    \t\"ME-Model-ID\" : model_name,\n",
    "    \t\"growth_key\" : \"mu1\",\n",
    "    \t\"complex_cofactors\" : {},\n",
    "    \t\"lipoprotein_precursors\" : {},\n",
    "    \t\"lipid_modifications\" : [],\n",
    "    \t\"flux_of_biomass_constituents\" : {},\n",
    "    \t\"flux_of_lipid_constituents\" : {},\n",
    "    \t\"braun's_lipoprotein\" : [],\n",
    "    \t\"braun's_lpp_flux\" : -0.0,\n",
    "    \t\"braun's_murein_flux\" : -0.0,\n",
    "    \t\"gr_data_doublings_per_hour\" : [0, 0.6, 1.0, 1.5, 2.0, 2.5],\n",
    "        \"percent_dna_data\" : [0.0592, 0.0512, 0.0330, 0.0252, 0.0222, 0.0208],\n",
    "    \t\"defer_to_rxn_matrix\" : []\n",
    "    }\n",
    "    with open(out_dir+'organism.json', 'w') as f:\n",
    "        json.dump(organism, f, indent = 4)\n",
    "    with open(out_dir+'input.json', 'w') as f:\n",
    "        json.dump(input_json, f, indent = 4)\n",
    "\n",
    "    \n",
    "    # convert model file to json if necessary\n",
    "    matlab_file = base_dir+'/matlab-strain-models/'+index+'.mat'\n",
    "    json_file = out_dir+'/inputs/model.json'\n",
    "    if not os.path.exists(json_file) and os.path.exists(matlab_file):\n",
    "        model = cobra.io.load_matlab_model(matlab_file)\n",
    "        cobra.io.save_json_model(model, json_file)\n",
    "\n",
    "    # create the model\n",
    "    organism = out_dir+'organism.json'\n",
    "    inputs = out_dir+'input.json'\n",
    "    try:\n",
    "        builder = MEBuilder(*[organism, inputs])\n",
    "        builder.generate_files(overwrite=True)\n",
    "        builder.build_me_model(overwrite=True)\n",
    "    except Exception as e:\n",
    "        print(f\"Error building model: {e}\")\n",
    "        continue\n",
    "    \n",
    "    # gapfill the model\n",
    "    builder.troubleshoot(growth_key_and_value = { builder.me_model.mu : 0.001 })"
   ]
  }
 ],
 "metadata": {
  "kernelspec": {
   "display_name": "Python 3 (ipykernel)",
   "language": "python",
   "name": "python3"
  },
  "language_info": {
   "codemirror_mode": {
    "name": "ipython",
    "version": 3
   },
   "file_extension": ".py",
   "mimetype": "text/x-python",
   "name": "python",
   "nbconvert_exporter": "python",
   "pygments_lexer": "ipython3",
   "version": "3.10.17"
  }
 },
 "nbformat": 4,
 "nbformat_minor": 5
}
