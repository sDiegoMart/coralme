{
 "cells": [
  {
   "cell_type": "code",
   "execution_count": 37,
   "id": "32ddd5c0-7727-4e8e-b9cb-697cdf3cd067",
   "metadata": {},
   "outputs": [
    {
     "data": {
      "text/html": [
       "<style>.container { width:95% !important; }</style>"
      ],
      "text/plain": [
       "<IPython.core.display.HTML object>"
      ]
     },
     "metadata": {},
     "output_type": "display_data"
    },
    {
     "ename": "ModuleNotFoundError",
     "evalue": "No module named 'coralme.solver'",
     "output_type": "error",
     "traceback": [
      "\u001b[0;31m---------------------------------------------------------------------------\u001b[0m",
      "\u001b[0;31mModuleNotFoundError\u001b[0m                       Traceback (most recent call last)",
      "Cell \u001b[0;32mIn[37], line 9\u001b[0m\n\u001b[1;32m      7\u001b[0m \u001b[38;5;28;01mimport\u001b[39;00m\u001b[38;5;250m \u001b[39m\u001b[38;5;21;01mimportlib\u001b[39;00m\n\u001b[1;32m      8\u001b[0m \u001b[38;5;28;01mimport\u001b[39;00m\u001b[38;5;250m \u001b[39m\u001b[38;5;21;01mcoralme\u001b[39;00m\n\u001b[0;32m----> 9\u001b[0m \u001b[38;5;28;01mimport\u001b[39;00m\u001b[38;5;250m \u001b[39m\u001b[38;5;21;01mcoralme\u001b[39;00m\u001b[38;5;21;01m.\u001b[39;00m\u001b[38;5;21;01msolver\u001b[39;00m\u001b[38;5;21;01m.\u001b[39;00m\u001b[38;5;21;01msolver\u001b[39;00m\n\u001b[1;32m     10\u001b[0m \u001b[38;5;28;01mimport\u001b[39;00m\u001b[38;5;250m \u001b[39m\u001b[38;5;21;01mcoralme\u001b[39;00m\u001b[38;5;21;01m.\u001b[39;00m\u001b[38;5;21;01mbuilder\u001b[39;00m\u001b[38;5;21;01m.\u001b[39;00m\u001b[38;5;21;01mmain\u001b[39;00m\n\u001b[1;32m     11\u001b[0m \u001b[38;5;28;01mimport\u001b[39;00m\u001b[38;5;250m \u001b[39m\u001b[38;5;21;01mcoralme\u001b[39;00m\u001b[38;5;21;01m.\u001b[39;00m\u001b[38;5;21;01mcore\u001b[39;00m\u001b[38;5;21;01m.\u001b[39;00m\u001b[38;5;21;01mmodel\u001b[39;00m\n",
      "\u001b[0;31mModuleNotFoundError\u001b[0m: No module named 'coralme.solver'"
     ]
    }
   ],
   "source": [
    "from IPython.display import display, HTML, Math, Markdown\n",
    "display(HTML(\"<style>.container { width:95% !important; }</style>\"))\n",
    "\n",
    "import sys\n",
    "sys.path.insert(0, '../../')\n",
    "\n",
    "import importlib\n",
    "import coralme\n",
    "import coralme.solver.solver\n",
    "import coralme.builder.main\n",
    "import coralme.core.model\n",
    "import os\n",
    "import pandas as pd\n",
    "import json\n",
    "\n",
    "from coralme.builder.main import MEBuilder\n",
    "\n",
    "from Bio import Entrez, SeqIO\n",
    "Entrez.email = 'cdalldorf@sdsu.edu'\n",
    "\n",
    "# Function to download GenBank file\n",
    "def download_genbank(ref_id, output_dir, verbose = False):\n",
    "    try:\n",
    "        if verbose: print(f\"Fetching {ref_id}...\")\n",
    "        with Entrez.efetch(db=\"nucleotide\", id=ref_id, rettype=\"gb\", retmode=\"text\") as handle:\n",
    "            gb_record = handle.read()\n",
    "            output_file = os.path.join(output_dir, 'genome.gb')\n",
    "            with open(output_file, \"w\") as f:\n",
    "                f.write(gb_record)\n",
    "        if verbose: print(f\"Saved {ref_id} to {output_file}\")\n",
    "        return(1)\n",
    "    except Exception as e:\n",
    "        if verbos: print(f\"Error fetching {ref_id}: {e}\")\n",
    "        return(0)"
   ]
  },
  {
   "cell_type": "code",
   "execution_count": 42,
   "id": "682dd8a5-a8b1-465d-9310-c6d3ce4984f2",
   "metadata": {},
   "outputs": [],
   "source": [
    "import pandas as pd\n",
    "import os\n",
    "import cobra\n",
    "import json\n",
    "\n",
    "from Bio import Entrez, SeqIO\n",
    "Entrez.email = 'cdalldorf@sdsu.edu'\n",
    "\n",
    "# Function to download GenBank file\n",
    "def download_genbank(ref_id, output_dir, verbose = False):\n",
    "    try:\n",
    "        if verbose: print(f\"Fetching {ref_id}...\")\n",
    "        with Entrez.efetch(db=\"nucleotide\", id=ref_id, rettype=\"gb\", retmode=\"text\") as handle:\n",
    "            gb_record = handle.read()\n",
    "            output_file = os.path.join(output_dir, 'genome.gb')\n",
    "            with open(output_file, \"w\") as f:\n",
    "                f.write(gb_record)\n",
    "        if verbose: print(f\"Saved {ref_id} to {output_file}\")\n",
    "        return(1)\n",
    "    except Exception as e:\n",
    "        if verbos: print(f\"Error fetching {ref_id}: {e}\")\n",
    "        return(0)"
   ]
  },
  {
   "cell_type": "code",
   "execution_count": 59,
   "id": "36cf6d99-78f0-40c0-874c-60deab54664c",
   "metadata": {},
   "outputs": [
    {
     "ename": "GurobiError",
     "evalue": "License expired 2023-10-25",
     "output_type": "error",
     "traceback": [
      "\u001b[0;31m---------------------------------------------------------------------------\u001b[0m",
      "\u001b[0;31mGurobiError\u001b[0m                               Traceback (most recent call last)",
      "Cell \u001b[0;32mIn[59], line 66\u001b[0m\n\u001b[1;32m     64\u001b[0m json_file \u001b[38;5;241m=\u001b[39m out_dir\u001b[38;5;241m+\u001b[39m\u001b[38;5;124m'\u001b[39m\u001b[38;5;124m/inputs/model.json\u001b[39m\u001b[38;5;124m'\u001b[39m\n\u001b[1;32m     65\u001b[0m \u001b[38;5;28;01mif\u001b[39;00m \u001b[38;5;129;01mnot\u001b[39;00m os\u001b[38;5;241m.\u001b[39mpath\u001b[38;5;241m.\u001b[39mexists(json_file) \u001b[38;5;129;01mand\u001b[39;00m os\u001b[38;5;241m.\u001b[39mpath\u001b[38;5;241m.\u001b[39mexists(matlab_file):\n\u001b[0;32m---> 66\u001b[0m     model \u001b[38;5;241m=\u001b[39m \u001b[43mcobra\u001b[49m\u001b[38;5;241;43m.\u001b[39;49m\u001b[43mio\u001b[49m\u001b[38;5;241;43m.\u001b[39;49m\u001b[43mload_matlab_model\u001b[49m\u001b[43m(\u001b[49m\u001b[43mmatlab_file\u001b[49m\u001b[43m)\u001b[49m\n\u001b[1;32m     67\u001b[0m     cobra\u001b[38;5;241m.\u001b[39mio\u001b[38;5;241m.\u001b[39msave_json_model(model, json_model)\n\u001b[1;32m     68\u001b[0m     fa \u001b[38;5;241m=\u001b[39m fo\n",
      "File \u001b[0;32m/opt/anaconda3/envs/coralme/lib/python3.10/site-packages/cobra/io/mat.py:341\u001b[0m, in \u001b[0;36mload_matlab_model\u001b[0;34m(infile_path, variable_name, inf)\u001b[0m\n\u001b[1;32m    339\u001b[0m \u001b[38;5;28;01mfor\u001b[39;00m possible_name \u001b[38;5;129;01min\u001b[39;00m possible_names:\n\u001b[1;32m    340\u001b[0m     \u001b[38;5;28;01mtry\u001b[39;00m:\n\u001b[0;32m--> 341\u001b[0m         \u001b[38;5;28;01mreturn\u001b[39;00m \u001b[43mfrom_mat_struct\u001b[49m\u001b[43m(\u001b[49m\u001b[43mdata\u001b[49m\u001b[43m[\u001b[49m\u001b[43mpossible_name\u001b[49m\u001b[43m]\u001b[49m\u001b[43m,\u001b[49m\u001b[43m \u001b[49m\u001b[43mmodel_id\u001b[49m\u001b[38;5;241;43m=\u001b[39;49m\u001b[43mpossible_name\u001b[49m\u001b[43m,\u001b[49m\u001b[43m \u001b[49m\u001b[43minf\u001b[49m\u001b[38;5;241;43m=\u001b[39;49m\u001b[43minf\u001b[49m\u001b[43m)\u001b[49m\n\u001b[1;32m    342\u001b[0m     \u001b[38;5;28;01mexcept\u001b[39;00m \u001b[38;5;167;01mValueError\u001b[39;00m \u001b[38;5;28;01mas\u001b[39;00m e:\n\u001b[1;32m    343\u001b[0m         \u001b[38;5;28mprint\u001b[39m(\u001b[38;5;124mf\u001b[39m\u001b[38;5;124m\"\u001b[39m\u001b[38;5;124mSome problem with the model, causing error \u001b[39m\u001b[38;5;132;01m{\u001b[39;00me\u001b[38;5;132;01m}\u001b[39;00m\u001b[38;5;124m\"\u001b[39m)\n",
      "File \u001b[0;32m/opt/anaconda3/envs/coralme/lib/python3.10/site-packages/cobra/io/mat.py:767\u001b[0m, in \u001b[0;36mfrom_mat_struct\u001b[0;34m(mat_struct, model_id, inf)\u001b[0m\n\u001b[1;32m    764\u001b[0m         new_names[new_names\u001b[38;5;241m.\u001b[39mindex(old_field)] \u001b[38;5;241m=\u001b[39m new_field\n\u001b[1;32m    765\u001b[0m         m\u001b[38;5;241m.\u001b[39mdtype\u001b[38;5;241m.\u001b[39mnames \u001b[38;5;241m=\u001b[39m new_names\n\u001b[0;32m--> 767\u001b[0m model \u001b[38;5;241m=\u001b[39m \u001b[43mModel\u001b[49m\u001b[43m(\u001b[49m\u001b[43m)\u001b[49m\n\u001b[1;32m    768\u001b[0m \u001b[38;5;28;01mif\u001b[39;00m model_id \u001b[38;5;129;01mis\u001b[39;00m \u001b[38;5;129;01mnot\u001b[39;00m \u001b[38;5;28;01mNone\u001b[39;00m:\n\u001b[1;32m    769\u001b[0m     model\u001b[38;5;241m.\u001b[39mid \u001b[38;5;241m=\u001b[39m model_id\n",
      "File \u001b[0;32m/opt/anaconda3/envs/coralme/lib/python3.10/site-packages/cobra/core/model.py:98\u001b[0m, in \u001b[0;36mModel.__init__\u001b[0;34m(self, id_or_model, name)\u001b[0m\n\u001b[1;32m     92\u001b[0m \u001b[38;5;66;03m# from cameo ...\u001b[39;00m\n\u001b[1;32m     93\u001b[0m \n\u001b[1;32m     94\u001b[0m \u001b[38;5;66;03m# if not hasattr(self, '_solver'):  # backwards compatibility\u001b[39;00m\n\u001b[1;32m     95\u001b[0m \u001b[38;5;66;03m# with older cobrapy pickles?\u001b[39;00m\n\u001b[1;32m     97\u001b[0m interface \u001b[38;5;241m=\u001b[39m check_solver(configuration\u001b[38;5;241m.\u001b[39msolver)\n\u001b[0;32m---> 98\u001b[0m \u001b[38;5;28mself\u001b[39m\u001b[38;5;241m.\u001b[39m_solver \u001b[38;5;241m=\u001b[39m \u001b[43minterface\u001b[49m\u001b[38;5;241;43m.\u001b[39;49m\u001b[43mModel\u001b[49m\u001b[43m(\u001b[49m\u001b[43m)\u001b[49m\n\u001b[1;32m     99\u001b[0m \u001b[38;5;28mself\u001b[39m\u001b[38;5;241m.\u001b[39m_solver\u001b[38;5;241m.\u001b[39mobjective \u001b[38;5;241m=\u001b[39m interface\u001b[38;5;241m.\u001b[39mObjective(Zero)\n\u001b[1;32m    100\u001b[0m \u001b[38;5;28mself\u001b[39m\u001b[38;5;241m.\u001b[39m_populate_solver(\u001b[38;5;28mself\u001b[39m\u001b[38;5;241m.\u001b[39mreactions, \u001b[38;5;28mself\u001b[39m\u001b[38;5;241m.\u001b[39mmetabolites)\n",
      "File \u001b[0;32m/opt/anaconda3/envs/coralme/lib/python3.10/site-packages/optlang/interface.py:1181\u001b[0m, in \u001b[0;36mModel.__init__\u001b[0;34m(self, name, objective, variables, constraints, problem, *args, **kwargs)\u001b[0m\n\u001b[1;32m   1178\u001b[0m     \u001b[38;5;28mself\u001b[39m\u001b[38;5;241m.\u001b[39m_initialize_model_from_problem(problem)\n\u001b[1;32m   1180\u001b[0m \u001b[38;5;28;01melse\u001b[39;00m:\n\u001b[0;32m-> 1181\u001b[0m     \u001b[38;5;28;43mself\u001b[39;49m\u001b[38;5;241;43m.\u001b[39;49m\u001b[43m_initialize_problem\u001b[49m\u001b[43m(\u001b[49m\u001b[43m)\u001b[49m\n\u001b[1;32m   1182\u001b[0m     \u001b[38;5;28;01mif\u001b[39;00m variables \u001b[38;5;129;01mis\u001b[39;00m \u001b[38;5;129;01mnot\u001b[39;00m \u001b[38;5;28;01mNone\u001b[39;00m:\n\u001b[1;32m   1183\u001b[0m         \u001b[38;5;28mself\u001b[39m\u001b[38;5;241m.\u001b[39madd(variables)\n",
      "File \u001b[0;32m/opt/anaconda3/envs/coralme/lib/python3.10/site-packages/optlang/gurobi_interface.py:526\u001b[0m, in \u001b[0;36mModel._initialize_problem\u001b[0;34m(self)\u001b[0m\n\u001b[1;32m    525\u001b[0m \u001b[38;5;28;01mdef\u001b[39;00m\u001b[38;5;250m \u001b[39m\u001b[38;5;21m_initialize_problem\u001b[39m(\u001b[38;5;28mself\u001b[39m):\n\u001b[0;32m--> 526\u001b[0m     \u001b[38;5;28mself\u001b[39m\u001b[38;5;241m.\u001b[39mproblem \u001b[38;5;241m=\u001b[39m \u001b[43mgurobipy\u001b[49m\u001b[38;5;241;43m.\u001b[39;49m\u001b[43mModel\u001b[49m\u001b[43m(\u001b[49m\u001b[43m)\u001b[49m\n\u001b[1;32m    527\u001b[0m     \u001b[38;5;28mself\u001b[39m\u001b[38;5;241m.\u001b[39mproblem\u001b[38;5;241m.\u001b[39mparams\u001b[38;5;241m.\u001b[39mOutputFlag \u001b[38;5;241m=\u001b[39m \u001b[38;5;241m0\u001b[39m\n\u001b[1;32m    528\u001b[0m     \u001b[38;5;28;01mif\u001b[39;00m \u001b[38;5;28mself\u001b[39m\u001b[38;5;241m.\u001b[39mname \u001b[38;5;129;01mis\u001b[39;00m \u001b[38;5;129;01mnot\u001b[39;00m \u001b[38;5;28;01mNone\u001b[39;00m:\n",
      "File \u001b[0;32msrc/gurobipy/model.pxi:68\u001b[0m, in \u001b[0;36mgurobipy.Model.__init__\u001b[0;34m()\u001b[0m\n",
      "File \u001b[0;32msrc/gurobipy/gurobi.pxi:32\u001b[0m, in \u001b[0;36mgurobipy.gurobi._getdefaultenv\u001b[0;34m()\u001b[0m\n",
      "File \u001b[0;32msrc/gurobipy/env.pxi:62\u001b[0m, in \u001b[0;36mgurobipy.Env.__init__\u001b[0;34m()\u001b[0m\n",
      "\u001b[0;31mGurobiError\u001b[0m: License expired 2023-10-25"
     ]
    }
   ],
   "source": [
    "# go through each line, convert model, find files necessary, generate input jsons\n",
    "base_dir = '../species_files/Pseudomonas_files/'\n",
    "info_df = pd.read_excel(base_dir+'Strain_models_genome-information_predictedM9.xlsx', index_col = 0)\n",
    "for index, row in info_df.iterrows():\n",
    "    if index == 'Reference': continue\n",
    "\n",
    "    # make directory\n",
    "    out_dir = base_dir+'/individual_species/'+index+'/'\n",
    "    if not os.path.exists(out_dir):\n",
    "        os.mkdir(out_dir)\n",
    "    if not os.path.exists(out_dir+'/inputs'):\n",
    "        os.mkdir(out_dir+'/inputs')\n",
    "    if not os.path.exists(out_dir+'/outputs'):\n",
    "        os.mkdir(out_dir+'/outputs')\n",
    "    \n",
    "    # pull genome.gb file from NCBI\n",
    "    if not os.path.exists(out_dir+'/inputs/genome.gb'):\n",
    "        download_genbank(index, out_dir+'/inputs')\n",
    "\n",
    "    # TODO - automatic download of Biolog files\n",
    "    # you tried this before without success, perhaps do manually\n",
    "\n",
    "    # let's create organism.json and input.json files\n",
    "    input_json = {\n",
    "      \"m-model-path\": \"./inputs/model.json\",\n",
    "      \"genbank-path\": \"./inputs/genome.gb\",\n",
    "      \"biocyc.genes\": \"./inputs/genes.txt\",\n",
    "      \"biocyc.prots\": \"./inputs/proteins.txt\",\n",
    "      \"biocyc.TUs\": \"./inputs/TUs.txt\",\n",
    "      \"biocyc.RNAs\": \"./inputs/RNAs.txt\",\n",
    "      \"biocyc.seqs\": \"./inputs/sequences.fasta\",\n",
    "      \"df_gene_cplxs_mods_rxns\": \"./outputs/building_data/automated-org-with-refs.xlsx\",\n",
    "      \"out_directory\": \"./outputs\",\n",
    "      \"log_directory\": \"./outputs\",\n",
    "      \"run_bbh_blast\": True,\n",
    "      \"e_value_cutoff\": 1e-10,\n",
    "      \"dev_reference\": True,\n",
    "      \"include_pseudo_genes\": True,\n",
    "      \"locus_tag\" : \"locus_tag\"\n",
    "    }\n",
    "    organism = {\n",
    "    \t\"ME-Model-ID\" : row['organism'],\n",
    "    \t\"growth_key\" : \"mu1\",\n",
    "    \t\"complex_cofactors\" : {},\n",
    "    \t\"lipoprotein_precursors\" : {},\n",
    "    \t\"lipid_modifications\" : [],\n",
    "    \t\"flux_of_biomass_constituents\" : {},\n",
    "    \t\"flux_of_lipid_constituents\" : {},\n",
    "    \t\"braun's_lipoprotein\" : [],\n",
    "    \t\"braun's_lpp_flux\" : -0.0,\n",
    "    \t\"braun's_murein_flux\" : -0.0,\n",
    "    \t\"gr_data_doublings_per_hour\" : [0, 0.6, 1.0, 1.5, 2.0, 2.5],\n",
    "        \"percent_dna_data\" : [0.0592, 0.0512, 0.0330, 0.0252, 0.0222, 0.0208],\n",
    "    \t\"defer_to_rxn_matrix\" : []\n",
    "    }\n",
    "    with open(out_dir+'organism.json', 'w') as f:\n",
    "        json.dump(organism, f, indent = 4)\n",
    "    with open(out_dir+'input.json', 'w') as f:\n",
    "        json.dump(input_json, f, indent = 4)\n",
    "\n",
    "    \n",
    "    # convert model file to json if necessary\n",
    "    matlab_file = base_dir+'matlab-strain-models/'+index+'.mat'\n",
    "    json_file = out_dir+'/inputs/model.json'\n",
    "    if not os.path.exists(json_file) and os.path.exists(matlab_file):\n",
    "        model = cobra.io.load_matlab_model(matlab_file)\n",
    "        cobra.io.save_json_model(model, json_model)\n",
    "        fa = fo\n",
    "\n",
    "    # create the model\n",
    "    organism = out_dir+'organism.json'\n",
    "    inputs = out_dir+'input.json'\n",
    "    builder = MEBuilder(*[organism, inputs])\n",
    "    builder.generate_files(overwrite=True)\n",
    "    builder.build_me_model(overwrite=True)\n",
    "    \n",
    "    # gapfill the model\n",
    "    builder.troubleshoot(growth_key_and_value = { builder.me_model.mu : 0.001 })\n",
    "        "
   ]
  },
  {
   "cell_type": "code",
   "execution_count": null,
   "id": "1c22e594-a6dc-4902-aa06-810289bb86e1",
   "metadata": {},
   "outputs": [],
   "source": []
  }
 ],
 "metadata": {
  "kernelspec": {
   "display_name": "Python 3 (ipykernel)",
   "language": "python",
   "name": "python3"
  },
  "language_info": {
   "codemirror_mode": {
    "name": "ipython",
    "version": 3
   },
   "file_extension": ".py",
   "mimetype": "text/x-python",
   "name": "python",
   "nbconvert_exporter": "python",
   "pygments_lexer": "ipython3",
   "version": "3.10.16"
  }
 },
 "nbformat": 4,
 "nbformat_minor": 5
}
