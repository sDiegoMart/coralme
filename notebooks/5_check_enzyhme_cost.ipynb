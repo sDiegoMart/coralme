{
 "cells": [
  {
   "cell_type": "code",
   "execution_count": 1,
   "metadata": {},
   "outputs": [
    {
     "data": {
      "text/html": [
       "<style>.container { width:95% !important; }</style>"
      ],
      "text/plain": [
       "<IPython.core.display.HTML object>"
      ]
     },
     "metadata": {},
     "output_type": "display_data"
    }
   ],
   "source": [
    "from IPython.display import display, HTML, Math, Markdown\n",
    "display(HTML(\"<style>.container { width:95% !important; }</style>\"))\n",
    "\n",
    "import sys\n",
    "sys.path.insert(0, '../')\n",
    "coralme_dir = '../'#'/home/chris/zuniga/coralme/'\n",
    "sys.path.insert(0, coralme_dir)\n",
    "\n",
    "import importlib\n",
    "from cobra.core import Reaction, Metabolite\n",
    "import coralme\n",
    "import coralme.solver.solver\n",
    "import coralme.builder.main\n",
    "import coralme.core.model\n",
    "from coralme.util.helpers import get_nlp, optimize\n",
    "import os\n",
    "import pandas as pd\n",
    "import json\n",
    "import cobra\n",
    "import numpy as np\n",
    "import matplotlib.pyplot as plt\n",
    "from coralme.util.helpers import get_nlp, optimize\n",
    "import pickle\n",
    "\n",
    "from coralme.builder.main import MEBuilder\n",
    "\n",
    "# load ME and M models\n",
    "base_dir = os.path.join(coralme_dir, 'species_files', 'Pseudomonas_files')\n",
    "path = os.path.join(base_dir, 'individual_species', 'CP065866', 'outputs', 'MEModel-step3-Pseudomonas_aeruginosa_TJ2019-017-TS.pkl')\n",
    "ME_model = coralme.io.pickle.load_pickle_me_model(path)\n",
    "\n",
    "\n",
    "# Create a sink reaction\n",
    "def add_sink_reaction_to_me(me_model, metabolite_id, lb = -1e-13, ub = -1e-13):\n",
    "    \"\"\"\n",
    "    Add a sink reaction to a coralME model\n",
    "    \n",
    "    Parameters:\n",
    "    -----------\n",
    "    me_model : coralme.core.MEModel\n",
    "        The ME model to add the sink to\n",
    "    metabolite_id : str\n",
    "        The ID of the metabolite to create a sink for\n",
    "    lb : float\n",
    "        Lower bound of the sink reaction\n",
    "    ub : float\n",
    "        Upper bound of the sink reaction\n",
    "    \"\"\"\n",
    "    from coralme.core.reaction import MEReaction\n",
    "    \n",
    "    # Create the sink reaction\n",
    "    sink_id = f'SINK_{metabolite_id}'\n",
    "    sink_reaction = MEReaction(sink_id)\n",
    "    sink_reaction.name = f'Sink reaction for {metabolite_id}'\n",
    "    \n",
    "    # Get the metabolite\n",
    "    metabolite = me_model.metabolites.get_by_id(metabolite_id)\n",
    "    \n",
    "    # Add the metabolite to the reaction\n",
    "    sink_reaction.add_metabolites({metabolite: -1})\n",
    "    \n",
    "    # Set the bounds\n",
    "    sink_reaction.lower_bound = lb\n",
    "    sink_reaction.upper_bound = ub\n",
    "    \n",
    "    # Add to model\n",
    "    me_model.add_reactions([sink_reaction])\n",
    "    \n",
    "    return sink_reaction"
   ]
  },
  {
   "cell_type": "code",
   "execution_count": null,
   "metadata": {},
   "outputs": [
    {
     "name": "stdout",
     "output_type": "stream",
     "text": [
      "Iteration\t Solution to check\tSolver Status\n",
      "---------\t------------------\t-------------\n"
     ]
    }
   ],
   "source": [
    "# run through each metabolite\n",
    "path = os.path.join(coralme_dir, 'data', 'metab_to_sol.pkl')\n",
    "\n",
    "# let's add all of the reactions, turned off, to the model\n",
    "for metab in ME_model.metabolites:\n",
    "    if 'MONOMER' not in metab.id:\n",
    "        continue\n",
    "    # I want to create a sink reaction\n",
    "    sink_reaction = add_sink_reaction_to_me(ME_model, metab.id, lb = 0, ub = 0)\n",
    "\n",
    "nlp = get_nlp(ME_model)\n",
    "rxn_index_dct = {r.id : ME_model.reactions.index(r) for r in ME_model.reactions}\n",
    "met_index_dct = {m.id : ME_model.metabolites.index(m) for m in ME_model.metabolites}\n",
    "\n",
    "# load in solution dictionary\n",
    "basis = None\n",
    "if os.path.exists(path):\n",
    "    pickle_in = open(path, 'rb')\n",
    "    metab_to_sol = pickle.load(pickle_in)\n",
    "    pickle_in.close()\n",
    "else:\n",
    "    metab_to_sol = {}\n",
    "    sol, basis = optimize(rxn_index_dct,met_index_dct,nlp, max_mu = 0.5, min_mu = 0.05, maxIter = 20,\n",
    "\t\ttolerance = 1e-4, precision = 'quad', verbose = True, basis = None)\n",
    "    metab_to_sol.update({'base': sol})\n",
    "\n",
    "# metabolite by metabolite, turn them on, run, turn them off\n",
    "for metab in ME_model.metabolites:\n",
    "    if 'MONOMER' not in metab.id:\n",
    "        continue\n",
    "    if metab.id in metab_to_sol:\n",
    "        continue\n",
    "\n",
    "    # set bounds to force small run\n",
    "    nlp.xl[rxn_index_dct['SINK_'+metab.id]] = lambda x : -1e-10\n",
    "    nlp.xu[rxn_index_dct['SINK_'+metab.id]] = lambda x : -1e-10\n",
    "\n",
    "    # Run the model, save results\n",
    "    sol, basis = optimize(rxn_index_dct, met_index_dct, nlp, max_mu = 0.5, min_mu = 0.05, maxIter = 20,\n",
    "\t\ttolerance = 1e-4, precision = 'quad', verbose = True, basis = basis)\n",
    "    metab_to_sol.update({metab.id : sol})\n",
    "    pickle_out = open(path, 'wb')\n",
    "    pickle.dump(metab_to_sol, pickle_out)\n",
    "    pickle_out.close()\n",
    "\n",
    "    # reset reaction bounds\n",
    "    nlp.xl[rxn_index_dct['SINK_'+metab.id]] = lambda x : 0\n",
    "    nlp.xu[rxn_index_dct['SINK_'+metab.id]] = lambda x : 0"
   ]
  },
  {
   "cell_type": "code",
   "execution_count": null,
   "metadata": {},
   "outputs": [],
   "source": []
  },
  {
   "cell_type": "code",
   "execution_count": null,
   "metadata": {},
   "outputs": [],
   "source": []
  }
 ],
 "metadata": {
  "kernelspec": {
   "display_name": "Python 3 (ipykernel)",
   "language": "python",
   "name": "python3"
  },
  "language_info": {
   "codemirror_mode": {
    "name": "ipython",
    "version": 3
   },
   "file_extension": ".py",
   "mimetype": "text/x-python",
   "name": "python",
   "nbconvert_exporter": "python",
   "pygments_lexer": "ipython3",
   "version": "3.10.17"
  }
 },
 "nbformat": 4,
 "nbformat_minor": 4
}
