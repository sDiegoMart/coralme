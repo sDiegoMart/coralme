{
 "cells": [
  {
   "cell_type": "code",
   "execution_count": 2,
   "id": "ec5c4e85-a844-4238-a6f2-d8ca7ae0acc4",
   "metadata": {},
   "outputs": [],
   "source": [
    "import coralme\n",
    "import pandas\n",
    "from coralme.solver.solver import ME_NLP\n",
    "import cobra\n",
    "import numpy\n",
    "from coralme.core.optimization import _check_options\n",
    "from coralme.core.optimization import construct_lp_problem\n",
    "\n",
    "#from coralme.core.optimization import fva\n",
    "import matplotlib.pyplot as plt\n",
    "plt.rcParams['svg.fonttype'] = 'none'\n",
    "pandas.set_option('display.max_colwidth', None)\n",
    "import inspect\n",
    "\n",
    "import pandas as pd\n",
    "import seaborn as sns\n",
    "import numpy as np\n",
    "from sklearn.metrics import r2_score\n",
    "import math"
   ]
  },
  {
   "cell_type": "code",
   "execution_count": 3,
   "id": "1965e324-20be-4c63-9ce7-2b6dce2dcd76",
   "metadata": {},
   "outputs": [
    {
     "data": {
      "text/plain": [
       "'1.2.1'"
      ]
     },
     "execution_count": 3,
     "metadata": {},
     "output_type": "execute_result"
    }
   ],
   "source": [
    "coralme.__version__"
   ]
  },
  {
   "cell_type": "code",
   "execution_count": 2,
   "id": "c9f5e14e-910d-4b11-bcc2-9ce268ca93c3",
   "metadata": {},
   "outputs": [],
   "source": [
    "def fva(model,\n",
    "\treaction_list, fraction_of_optimum, mu_fixed = None, objective = 'biomass_dilution',\n",
    "\tmax_mu = 2.8100561374051836, min_mu = 0., maxIter = 100, lambdify = True,\n",
    "\ttolerance = 1e-6, precision = 'quad', verbose = True):\n",
    "\n",
    "\t\"\"\"\n",
    "\tDetermine the minimum and maximum flux value for each reaction constrained\n",
    "\tto a fraction of the current growth rate (default = 1.0)\n",
    "\n",
    "\tParameters\n",
    "\t----------\n",
    "\treaction_list : list of cobra.Reaction or str, optional\n",
    "\t\tList of reactions IDs and/or reaction objects\n",
    "\tfraction_of_optimum : float, optional\n",
    "\t\tMust be <= 1.0. Requires that the objective value is at least the\n",
    "\t\tfraction times maximum objective value. A value of 0.85 for instance\n",
    "\t\tmeans that the objective has to be at least at 85% percent of its\n",
    "\t\tmaximum (default 1.0).\n",
    "\tmu_fixed : float, optional\n",
    "\t\tSet it to avoid the optimization of a ME-model. The growth rate must\n",
    "\t\tbe feasible. If not, the ME-model will be optimized with the following\n",
    "\t\toptions:\n",
    "\n",
    "\t\tmax_mu : float, optional\n",
    "\t\t\tMaximum growth rate for initializing the growth rate binary search (GRBS).\n",
    "\t\tmin_mu : float, optional\n",
    "\t\t\tMinimum growth rate for initializing GRBS.\n",
    "\t\tmaxIter : int\n",
    "\t\t\tMaximum number of iterations for GRBS.\n",
    "\t\tlambdify : bool\n",
    "\t\t\tIf True, returns a dictionary of lambda functions for each symbolic\n",
    "\t\t\tstoichiometric coefficient\n",
    "\t\ttolerance : float\n",
    "\t\t\tTolerance for the convergence of GRBS.\n",
    "\t\tprecision : str, {\"quad\", \"double\", \"dq\", \"dqq\"}\n",
    "\t\t\tPrecision (quad or double precision) for the GRBS\n",
    "\n",
    "\tverbose : bool\n",
    "\t\tIf True, allow printing.\n",
    "\t\"\"\"\n",
    "\n",
    "\t# max_mu is constrained by the fastest-growing bacterium (14.8 doubling time)\n",
    "\t# https://www.nature.com/articles/s41564-019-0423-8\n",
    "\n",
    "\t# check options\n",
    "\tkeys={}\n",
    "\tkeys, tolerance, precision = _check_options(model = model, keys = keys, tolerance = tolerance, precision = precision)\n",
    "\tfraction_of_optimum = fraction_of_optimum if fraction_of_optimum <= 1.0 and fraction_of_optimum >= 0.0 else 1.0\n",
    "\tif isinstance(reaction_list, str):\n",
    "\t\treaction_list = [reaction_list]\n",
    "\n",
    "\t# populate with stoichiometry, no replacement of mu's\n",
    "\tif hasattr(model, 'construct_lp_problem'):\n",
    "\t\t# check if the ME-model has a solution\n",
    "\t\tif mu_fixed is not None and not hasattr(model, 'solution'):\n",
    "\t\t\tmodel.optimize(max_mu = max_mu, min_mu = min_mu, maxIter = maxIter, lambdify = lambdify,\n",
    "\t\t\t\ttolerance = tolerance, precision = precision, verbose = verbose)\n",
    "\n",
    "\t\t# set mu_fixed for replacement in a ME-model.\n",
    "\t\tmu_fixed = model.solution.fluxes.get(objective, mu_fixed) * fraction_of_optimum\n",
    "\n",
    "\t\t# get mathematical representation\n",
    "\t\tSf, Se, lb, ub, b, c, cs, atoms, lambdas, Lr, Lm = construct_lp_problem(model, lambdify = lambdify)\n",
    "\telse:\n",
    "\t\t# not a ME-model, and objective bounds usually are (0, 1000)\n",
    "\t\tif model.reactions.has_id(objective):\n",
    "\t\t\tmodel.reactions.get_by_id(objective).lower_bound = mu_fixed * fraction_of_optimum\n",
    "\t\t\tmodel.reactions.get_by_id(objective).upper_bound = mu_fixed\n",
    "\t\telse:\n",
    "\t\t\traise ValueError('Objective reaction \\'{:s}\\' not in the M-model.'.format(objective))\n",
    "\n",
    "\t\t# get mathematical representation\n",
    "\t\tSf, Se, lb, ub, b, c, cs, atoms, lambdas, Lr, Lm = construct_lp_problem(model)\n",
    "\n",
    "\tif verbose:\n",
    "\t\tprint('Running FVA for {:d} reactions. Maximum growth rate fixed to {:g}'.format(len(reaction_list), mu_fixed))\n",
    "\n",
    "\tme_nlp = coralme.solver.solver.ME_NLP(Sf, Se, b, c, lb, ub, cs, atoms, lambdas)\n",
    "\n",
    "\t# We need only reaction objects\n",
    "\trxns_fva = []\n",
    "\tfor rxn in reaction_list:\n",
    "\t\tif isinstance(rxn, str) and model.reactions.has_id(rxn):\n",
    "\t\t\trxns_fva.append(model.reactions.get_by_id(rxn))\n",
    "\t\telse:\n",
    "\t\t\trxns_fva.append(rxn)\n",
    "\n",
    "\tobj_inds0 = [ model.reactions.index(rxn) for rxn in rxns_fva for j in range(0, 2) ]\n",
    "\tobj_coeffs = [ ci for rxn in rxns_fva for ci in (1.0, -1.0) ]\n",
    "\n",
    "\t# varyME is a specialized method for multiple min/maximization problems\n",
    "\tobj_inds0, nVary, obj_vals = me_nlp.varyme(mu_fixed, obj_inds0, obj_coeffs, basis = None, verbosity = verbose)\n",
    "\n",
    "\t# Return result consistent with cobrapy FVA\n",
    "\tfva_result = {\n",
    "\t\t(model.reactions[obj_inds0[2*i]].id): {\n",
    "\t\t\t'maximum':obj_vals[2*i],\n",
    "\t\t\t'minimum':obj_vals[2*i+1]\n",
    "\t\t\t} for i in range(0, nVary//2) }\n",
    "\n",
    "\treturn pandas.DataFrame(fva_result).T"
   ]
  },
  {
   "cell_type": "code",
   "execution_count": 3,
   "id": "ee07d597-eac1-4795-bc2b-8d295859b39d",
   "metadata": {},
   "outputs": [
    {
     "name": "stdout",
     "output_type": "stream",
     "text": [
      "Set parameter Username\n",
      "Set parameter LicenseID to value 2654766\n",
      "Academic license - for non-commercial use only - expires 2026-04-20\n"
     ]
    }
   ],
   "source": [
    "m_model=cobra.io.read_sbml_model(\"./inputs/m_model.xml\")"
   ]
  },
  {
   "cell_type": "code",
   "execution_count": 4,
   "id": "8fcba20c-33a9-4442-a6a2-605a39b328ef",
   "metadata": {},
   "outputs": [],
   "source": [
    "m_model.reactions.get_by_id('EX_nh4_e').lower_bound=-5\n",
    "m_model.reactions.get_by_id('EX_succ_e').lower_bound=-5\n",
    "assert m_model.optimize().objective_value > 1e-3\n"
   ]
  },
  {
   "cell_type": "code",
   "execution_count": 5,
   "id": "5bed83d6-d24c-447b-84af-456cf74c949e",
   "metadata": {},
   "outputs": [
    {
     "name": "stdout",
     "output_type": "stream",
     "text": [
      "Read LP format model from file /tmp/tmpn9pb5o3m.lp\n",
      "Reading time = 0.01 seconds\n",
      ": 1786 rows, 4314 columns, 17098 nonzeros\n"
     ]
    }
   ],
   "source": [
    "model_ = coralme.core.model.MEModel.from_cobra(m_model)"
   ]
  },
  {
   "cell_type": "code",
   "execution_count": 6,
   "id": "783c3a34-c44f-4261-9c27-081e57b63c12",
   "metadata": {},
   "outputs": [
    {
     "name": "stdout",
     "output_type": "stream",
     "text": [
      "The MINOS and quad MINOS solvers are a courtesy of Prof Michael A. Saunders. Please cite Ma, D., Yang, L., Fleming, R. et al. Reliable and efficient solution of genome-scale models of Metabolism and macromolecular Expression. Sci Rep 7, 40863 (2017). https://doi.org/10.1038/srep40863\n",
      "\n"
     ]
    }
   ],
   "source": [
    "model_.optimize()\n",
    "sol=model_.solution"
   ]
  },
  {
   "cell_type": "code",
   "execution_count": 7,
   "id": "dc9f1091-46c4-470c-92cb-d062e502285e",
   "metadata": {},
   "outputs": [
    {
     "data": {
      "text/html": [
       "<strong><em>Optimal</em> solution with objective value 0.210</strong><br><div>\n",
       "<style scoped>\n",
       "    .dataframe tbody tr th:only-of-type {\n",
       "        vertical-align: middle;\n",
       "    }\n",
       "\n",
       "    .dataframe tbody tr th {\n",
       "        vertical-align: top;\n",
       "    }\n",
       "\n",
       "    .dataframe thead th {\n",
       "        text-align: right;\n",
       "    }\n",
       "</style>\n",
       "<table border=\"1\" class=\"dataframe\">\n",
       "  <thead>\n",
       "    <tr style=\"text-align: right;\">\n",
       "      <th></th>\n",
       "      <th>fluxes</th>\n",
       "      <th>reduced_costs</th>\n",
       "    </tr>\n",
       "  </thead>\n",
       "  <tbody>\n",
       "    <tr>\n",
       "      <th>CYTDK2</th>\n",
       "      <td>0.000000e+00</td>\n",
       "      <td>-6.464732e-35</td>\n",
       "    </tr>\n",
       "    <tr>\n",
       "      <th>XPPT</th>\n",
       "      <td>0.000000e+00</td>\n",
       "      <td>-5.641817e-03</td>\n",
       "    </tr>\n",
       "    <tr>\n",
       "      <th>HXPRT</th>\n",
       "      <td>0.000000e+00</td>\n",
       "      <td>-5.641817e-03</td>\n",
       "    </tr>\n",
       "    <tr>\n",
       "      <th>NDPK5</th>\n",
       "      <td>3.481538e-54</td>\n",
       "      <td>3.609692e-35</td>\n",
       "    </tr>\n",
       "    <tr>\n",
       "      <th>SHK3Dr</th>\n",
       "      <td>2.884806e-01</td>\n",
       "      <td>-5.549088e-35</td>\n",
       "    </tr>\n",
       "    <tr>\n",
       "      <th>...</th>\n",
       "      <td>...</td>\n",
       "      <td>...</td>\n",
       "    </tr>\n",
       "    <tr>\n",
       "      <th>NO3R1bpp</th>\n",
       "      <td>3.014747e+00</td>\n",
       "      <td>0.000000e+00</td>\n",
       "    </tr>\n",
       "    <tr>\n",
       "      <th>BIOMASS_WT</th>\n",
       "      <td>0.000000e+00</td>\n",
       "      <td>-8.360825e-01</td>\n",
       "    </tr>\n",
       "    <tr>\n",
       "      <th>CLPNH161pp</th>\n",
       "      <td>0.000000e+00</td>\n",
       "      <td>-4.936590e-03</td>\n",
       "    </tr>\n",
       "    <tr>\n",
       "      <th>CLPNS161pp</th>\n",
       "      <td>1.122849e-04</td>\n",
       "      <td>-2.429422e-34</td>\n",
       "    </tr>\n",
       "    <tr>\n",
       "      <th>EX_no2_e</th>\n",
       "      <td>0.000000e+00</td>\n",
       "      <td>-4.231363e-03</td>\n",
       "    </tr>\n",
       "  </tbody>\n",
       "</table>\n",
       "<p>2157 rows × 2 columns</p>\n",
       "</div>"
      ],
      "text/plain": [
       "<Solution 0.210 at 0x7f4683debfd0>"
      ]
     },
     "execution_count": 7,
     "metadata": {},
     "output_type": "execute_result"
    }
   ],
   "source": [
    "sol"
   ]
  },
  {
   "cell_type": "code",
   "execution_count": 8,
   "id": "8f0530d3-25c0-4c48-868c-ad5503121771",
   "metadata": {},
   "outputs": [
    {
     "name": "stdout",
     "output_type": "stream",
     "text": [
      "Running FVA for 2157 reactions. Maximum growth rate fixed to 0.209847\n"
     ]
    }
   ],
   "source": [
    "# Calculating non FVA fluxes\n",
    "m_model_fva = fva(model_, model_.reactions,fraction_of_optimum=1.0, objective = \"BIOMASS_core\")"
   ]
  },
  {
   "cell_type": "code",
   "execution_count": 9,
   "id": "f7648847-fb69-444b-a7fb-9df7d06ac06f",
   "metadata": {},
   "outputs": [],
   "source": [
    "m_model_fva.to_csv(\"m_model.csv\")"
   ]
  }
 ],
 "metadata": {
  "kernelspec": {
   "display_name": "Python 3 (ipykernel)",
   "language": "python",
   "name": "python3"
  },
  "language_info": {
   "codemirror_mode": {
    "name": "ipython",
    "version": 3
   },
   "file_extension": ".py",
   "mimetype": "text/x-python",
   "name": "python",
   "nbconvert_exporter": "python",
   "pygments_lexer": "ipython3",
   "version": "3.10.17"
  }
 },
 "nbformat": 4,
 "nbformat_minor": 5
}
